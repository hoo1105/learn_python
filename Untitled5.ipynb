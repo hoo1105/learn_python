{
 "cells": [
  {
   "cell_type": "code",
   "execution_count": 2,
   "metadata": {},
   "outputs": [],
   "source": [
    "# Quiz) 당신의의 학교에서는 파이썬 코디 애회를 주최 합니다.\n",
    "# 참석률을 높이기 위해 댓글 이벤트를 진행하기로 하였습니다.\n",
    "# 댓슬 작성자들 중에 추첨을 통해 1명은 치킨, 3명은 커피 쿠폰을 받게 됩니다.\n",
    "# 추첨 프로그램을 작성하시오.\n",
    "\n",
    "# 조건1 : 편의상 댓글은 20명이 작성하였고 아이디는 1~20 이라고 가정\n",
    "# 조건2 : 댓글 내용과 상관 없이 무작위로 추첨하되 중복 불가\n",
    "# 조건3 : ramdom 모듈의 shuffle 과 sample 을 활용\n",
    "    \n",
    "# (출력 예제)\n",
    "# --- 당첨자 발표 ---\n",
    "# 치킨 당첨자 : 1\n",
    "# 커피 당첨자 : [2, 3, 4]\n",
    "#  -- 축하합니다. --\n"
   ]
  },
  {
   "cell_type": "code",
   "execution_count": 3,
   "metadata": {},
   "outputs": [],
   "source": [
    "from random import *"
   ]
  },
  {
   "cell_type": "code",
   "execution_count": 11,
   "metadata": {},
   "outputs": [
    {
     "name": "stdout",
     "output_type": "stream",
     "text": [
      "[1, 2, 3, 4, 5]\n",
      "[3, 4, 5, 1, 2]\n",
      "[2]\n"
     ]
    }
   ],
   "source": [
    "# lst = [1,2,3,4,5]\n",
    "# print(lst)\n",
    "# shuffle(lst)\n",
    "# print(lst)\n",
    "# print(sample(lst, 1))"
   ]
  },
  {
   "cell_type": "code",
   "execution_count": 13,
   "metadata": {},
   "outputs": [
    {
     "name": "stdout",
     "output_type": "stream",
     "text": [
      "[1, 2, 3, 4, 5, 6, 7, 8, 9, 10, 11, 12, 13, 14, 15, 16, 17, 18, 19, 20]\n",
      "[5, 20, 7, 19, 15, 8, 14, 3, 17, 6, 2, 9, 18, 12, 10, 11, 13, 1, 4, 16]\n"
     ]
    }
   ],
   "source": [
    "users = range(1,21)\n",
    "users = list(users)\n",
    "print(users)\n",
    "shuffle(users)\n",
    "print(users)"
   ]
  },
  {
   "cell_type": "code",
   "execution_count": null,
   "metadata": {},
   "outputs": [],
   "source": [
    "# --- 당첨자 발표 ---\n",
    "# 치킨 당첨자 : 1\n",
    "# 커피 당첨자 : [2, 3, 4]\n",
    "#  -- 축하합니다. --"
   ]
  },
  {
   "cell_type": "code",
   "execution_count": 15,
   "metadata": {},
   "outputs": [],
   "source": [
    "winners = sample(users, 4)"
   ]
  },
  {
   "cell_type": "code",
   "execution_count": 16,
   "metadata": {},
   "outputs": [
    {
     "name": "stdout",
     "output_type": "stream",
     "text": [
      "-- 당첨자 발표 --\n",
      "치킨 당첨자 : 5\n",
      "커피 당첨자 : [4, 7, 11]\n",
      "-- 축하합니다. --\n"
     ]
    }
   ],
   "source": [
    "print(\"-- 당첨자 발표 --\")\n",
    "print(\"치킨 당첨자 : {}\".format(winners[0]))\n",
    "print(\"커피 당첨자 : {}\".format(winners[1:]))\n",
    "print(\"-- 축하합니다. --\")"
   ]
  },
  {
   "cell_type": "code",
   "execution_count": null,
   "metadata": {},
   "outputs": [],
   "source": [
    "# Quiz) 당신은 Cocoa 서비스를 이용하는 택시 기사님입니다.\n",
    "# 50명의 승객과 매칭 기회가 있을 때, 총 탑승 승객 수를 구하는 프로그램을 작성하시오.\n",
    "\n",
    "# 조건1: 승객별 운행 소요 시간은 5분 ~ 50분 사이의 난수로 정해집니다.\n",
    "# 조건2: 당신은 소요 시간 5분 ~ 15분 사이의 승객만 매칭해야 합니다.\n",
    "    \n",
    "# (출력분 예제)\n",
    "# [0] 1번째 손님 (소요시간 : 15분)\n",
    "# [ ] 2번째 손님 (소요시간 : 50분)\n",
    "# [0] 3번째 손님 (소요시간 :  5분)\n",
    "# ...    \n",
    "# [ ] 50번째 손님 (소요시간 : 16분)\n",
    "# 총 탑승 승객 : 2 분"
   ]
  },
  {
   "cell_type": "code",
   "execution_count": 17,
   "metadata": {},
   "outputs": [],
   "source": [
    "from random import *"
   ]
  },
  {
   "cell_type": "code",
   "execution_count": 21,
   "metadata": {},
   "outputs": [
    {
     "name": "stdout",
     "output_type": "stream",
     "text": [
      "[ ] 1번째 손님 (소요시간 : 21분)\n",
      "[ ] 2번째 손님 (소요시간 : 48분)\n",
      "[0] 3번째 손님 (소요시간 : 10분)\n",
      "[ ] 4번째 손님 (소요시간 : 48분)\n",
      "[ ] 5번째 손님 (소요시간 : 35분)\n",
      "[0] 6번째 손님 (소요시간 : 13분)\n",
      "[0] 7번째 손님 (소요시간 : 14분)\n",
      "[ ] 8번째 손님 (소요시간 : 18분)\n",
      "[ ] 9번째 손님 (소요시간 : 45분)\n",
      "[ ] 10번째 손님 (소요시간 : 22분)\n",
      "[ ] 11번째 손님 (소요시간 : 35분)\n",
      "[ ] 12번째 손님 (소요시간 : 40분)\n",
      "[ ] 13번째 손님 (소요시간 : 21분)\n",
      "[ ] 14번째 손님 (소요시간 : 17분)\n",
      "[ ] 15번째 손님 (소요시간 : 33분)\n",
      "[0] 16번째 손님 (소요시간 : 10분)\n",
      "[0] 17번째 손님 (소요시간 : 9분)\n",
      "[0] 18번째 손님 (소요시간 : 10분)\n",
      "[ ] 19번째 손님 (소요시간 : 20분)\n",
      "[ ] 20번째 손님 (소요시간 : 50분)\n",
      "[ ] 21번째 손님 (소요시간 : 40분)\n",
      "[0] 22번째 손님 (소요시간 : 15분)\n",
      "[ ] 23번째 손님 (소요시간 : 39분)\n",
      "[ ] 24번째 손님 (소요시간 : 40분)\n",
      "[0] 25번째 손님 (소요시간 : 13분)\n",
      "[ ] 26번째 손님 (소요시간 : 31분)\n",
      "[ ] 27번째 손님 (소요시간 : 32분)\n",
      "[ ] 28번째 손님 (소요시간 : 50분)\n",
      "[ ] 29번째 손님 (소요시간 : 47분)\n",
      "[0] 30번째 손님 (소요시간 : 14분)\n",
      "[ ] 31번째 손님 (소요시간 : 28분)\n",
      "[ ] 32번째 손님 (소요시간 : 27분)\n",
      "[ ] 33번째 손님 (소요시간 : 35분)\n",
      "[ ] 34번째 손님 (소요시간 : 31분)\n",
      "[0] 35번째 손님 (소요시간 : 7분)\n",
      "[ ] 36번째 손님 (소요시간 : 31분)\n",
      "[0] 37번째 손님 (소요시간 : 6분)\n",
      "[ ] 38번째 손님 (소요시간 : 31분)\n",
      "[ ] 39번째 손님 (소요시간 : 43분)\n",
      "[ ] 40번째 손님 (소요시간 : 34분)\n",
      "[ ] 41번째 손님 (소요시간 : 18분)\n",
      "[0] 42번째 손님 (소요시간 : 9분)\n",
      "[ ] 43번째 손님 (소요시간 : 50분)\n",
      "[ ] 44번째 손님 (소요시간 : 16분)\n",
      "[ ] 45번째 손님 (소요시간 : 27분)\n",
      "[ ] 46번째 손님 (소요시간 : 41분)\n",
      "[ ] 47번째 손님 (소요시간 : 43분)\n",
      "[0] 48번째 손님 (소요시간 : 15분)\n",
      "[ ] 49번째 손님 (소요시간 : 27분)\n",
      "[ ] 50번째 손님 (소요시간 : 31분)\n",
      "총 답승 승객 : 13 명)\n"
     ]
    }
   ],
   "source": [
    "cnt = 0\n",
    "for i in range(1, 51):\n",
    "    time = randrange(5, 51)\n",
    "    if 5 <= time <= 15:\n",
    "        print(\"[0] {0}번째 손님 (소요시간 : {1}분)\".format(i,time))\n",
    "        cnt += 1\n",
    "    else:\n",
    "        print(\"[ ] {0}번째 손님 (소요시간 : {1}분)\".format(i, time))\n",
    "\n",
    "print(\"총 답승 승객 : {0} 명)\".format(cnt))"
   ]
  },
  {
   "cell_type": "code",
   "execution_count": null,
   "metadata": {},
   "outputs": [],
   "source": [
    "# Quiz) 표준 체중으 구하는 프로그램을 작성하세요.\n",
    "\n",
    "#     * 표준 체중 : 각 개인의 키에 적당한 체중\n",
    "        \n",
    "# (성별에 따른 공식)\n",
    "# 남자 : 키() x 키() x 22\n",
    "# 여자 : \n",
    "\n",
    "# 조건1 : 표준 체중은 별도의 함수 내에서 계산\n",
    "#         * 함수명 : std_weight\n",
    "#         * 전달값 : 키(height), 성별(gender)\n",
    "# 조건2 : 표준 체중은 소수점 둘째자리까지 표시\n",
    "    \n",
    "# (출력 예제)\n",
    "# 키 175cm 남자의 표준 체중은 67.38kg 입니다.\n"
   ]
  },
  {
   "cell_type": "code",
   "execution_count": 23,
   "metadata": {},
   "outputs": [],
   "source": [
    "def std_weight(height, gender):\n",
    "    if gender == \"남자\":\n",
    "        return height * height * 22\n",
    "    else:\n",
    "        return height * height * 21"
   ]
  },
  {
   "cell_type": "code",
   "execution_count": 27,
   "metadata": {},
   "outputs": [],
   "source": [
    "height = 175\n",
    "gender = \"남자\"\n",
    "weight = round(std_weight(height / 100, gender), 2)"
   ]
  },
  {
   "cell_type": "code",
   "execution_count": 28,
   "metadata": {},
   "outputs": [
    {
     "name": "stdout",
     "output_type": "stream",
     "text": [
      "키 175cm 남자의 표준 체중은 67.38\n"
     ]
    }
   ],
   "source": [
    "print(\"키 {0}cm {1}의 표준 체중은 {2}\".format(height, gender, weight))"
   ]
  },
  {
   "cell_type": "code",
   "execution_count": 29,
   "metadata": {},
   "outputs": [],
   "source": [
    "# Quiz) 당신의 회사에서 매주 1회 작성해야 하는 보고서가 있습니다.\n",
    "# 보고서는 항상 아래와 같은 형태로 출력되어야 합니다.\n",
    "\n",
    "# - X 주차 주간보고 -\n",
    "# 부서 :\n",
    "# 이름 :\n",
    "# 업무 요약 : \n",
    "    \n",
    "# 1주차부터 50주차까지의 보고서 파일을 만드는 프로그램을 작성 하시오.\n",
    "\n",
    "# 조건 : 파일명은 '1주차.txt', '2주차.txt, ... 와 간이 만듭니다.\n",
    "    "
   ]
  },
  {
   "cell_type": "code",
   "execution_count": 32,
   "metadata": {},
   "outputs": [],
   "source": [
    "for i in range(1, 51):\n",
    "    with open(str(i)+ \"주차.txt\", \"w\", encoding=\"utf8\") as report_file:\n",
    "        report_file.write(\"- {0} 주차 주간보고 -\".format(i))\n",
    "        report_file.write(\"\\n부서 :\")\n",
    "        report_file.write(\"\\n이름 :\")\n",
    "        report_file.write(\"\\n업무 요약 :\")\n"
   ]
  },
  {
   "cell_type": "code",
   "execution_count": null,
   "metadata": {},
   "outputs": [],
   "source": [
    "# Quiz) 주어진 코드를 활용하여 부동산 프로그램을 작성하시오.\n",
    "\n",
    "# (출력예제)\n",
    "# 총 3대의 매물이 있습니다.\n",
    "# 강남 아파트 매매 10억 2010년\n",
    "# 마포 오피스텔 전세 5억 2007년\n",
    "# 송파 빌라 월세 500/50 2000년"
   ]
  },
  {
   "cell_type": "code",
   "execution_count": 48,
   "metadata": {},
   "outputs": [],
   "source": [
    "class House:\n",
    "    #매물 초기화\n",
    "    def __init__(self, location, house_type, deal_type, price, completion_year):\n",
    "        self.location = location\n",
    "        self.house_type = house_type\n",
    "        self.deal_type = deal_type\n",
    "        self.price = price\n",
    "        self.completion_year = completion_year\n",
    "        \n",
    "    \n",
    "    # 매물 정보 표시\n",
    "    def show_detail(self):\n",
    "        print(self.location, self.house_type, self.deal_type, self.price\\\n",
    "              , self.completion_year)\n"
   ]
  },
  {
   "cell_type": "code",
   "execution_count": 51,
   "metadata": {},
   "outputs": [],
   "source": [
    "houses = [ ]\n",
    "house1 = House(\"강남\", \"아파트\", \"매매\", \"10억\", \"2010년\")\n",
    "house2 = House(\"마포\", \"오피스텔\", \"전세\", \"5억\", \"2007년\")\n",
    "house3 = House(\"송파\", \"빌라\", \"월세\", \"500/50\", \"2000년\")\n",
    "houses.append(house1)\n",
    "houses.append(house2)\n",
    "houses.append(house3)\n"
   ]
  },
  {
   "cell_type": "code",
   "execution_count": 52,
   "metadata": {},
   "outputs": [
    {
     "name": "stdout",
     "output_type": "stream",
     "text": [
      "총 3개의 매물이 있습니다.\n",
      "강남 아파트 매매 10억 2010년\n",
      "마포 오피스텔 전세 5억 2007년\n",
      "송파 빌라 월세 500/50 2000년\n"
     ]
    }
   ],
   "source": [
    "print(\"총 {0}개의 매물이 있습니다.\".format(len(houses)))\n",
    "for house in houses:\n",
    "    house.show_detail()\n",
    "    "
   ]
  },
  {
   "cell_type": "code",
   "execution_count": 53,
   "metadata": {},
   "outputs": [],
   "source": [
    "# Quiz) 동네에 항상 대기 손님이 있는ㄴ 맛있는 치킨집이 있습니다.\n",
    "# 대기 손님의 치킨 요리 시간을 줄이고자 자동 주문 시스템을 제작하였습니다.\n",
    "# 시스템 코드를 확인하고 적절한 예외처리 구문을 넣으시오.\n",
    "\n",
    "# 조건1 : 1보다 작거나 숫자가 아닌 입력값이 들어올 때는 ValueErrer 로 처리\n",
    "#         출력 메시지 : \"잘못된 값을 입력하였습니다.\"\n",
    "# 조건2 : 대기 손님이 주문할 수 있는 총 치킨량은 10 마리로 한정\n",
    "#         치킨 소진시 사용자 정의 에러[SoldOutErrer]를 발생시키고 프로그램 종료\n",
    "#         출력 메시지 : \"재고가 소지되어 더 이상 주문을 받지 않습니다.\"\n",
    "            \n",
    "# [코드]"
   ]
  },
  {
   "cell_type": "code",
   "execution_count": 58,
   "metadata": {},
   "outputs": [
    {
     "name": "stdout",
     "output_type": "stream",
     "text": [
      "[남은 치긴 : 10]\n",
      "치킨 몇 마리 주문하시겠습니까?2\n",
      "[대기번호 1] 2 마리 주문이 완료되었습니다.\n",
      "[남은 치긴 : 8]\n",
      "치킨 몇 마리 주문하시겠습니까?2\n",
      "[대기번호 2] 2 마리 주문이 완료되었습니다.\n",
      "[남은 치긴 : 6]\n",
      "치킨 몇 마리 주문하시겠습니까?2\n",
      "[대기번호 3] 2 마리 주문이 완료되었습니다.\n",
      "[남은 치긴 : 4]\n",
      "치킨 몇 마리 주문하시겠습니까?2\n",
      "[대기번호 4] 2 마리 주문이 완료되었습니다.\n",
      "[남은 치긴 : 2]\n",
      "치킨 몇 마리 주문하시겠습니까?-2\n",
      "잘못된 값을 입력하였습니다.\n",
      "[남은 치긴 : 2]\n",
      "치킨 몇 마리 주문하시겠습니까?2\n",
      "[대기번호 5] 2 마리 주문이 완료되었습니다.\n",
      "재고가 소지되어 더 이상 주문을 받지 않습니다.\n"
     ]
    }
   ],
   "source": [
    "class SoldOutError(Exception):\n",
    "    pass\n",
    "\n",
    "chicken = 10\n",
    "waiting = 1  # 홀 안에는 현재 만석, 대기번호 1부터 시작\n",
    "while(True):\n",
    "    try:\n",
    "        print( \"[남은 치긴 : {0}]\".format(chicken))\n",
    "        order = int(input(\"치킨 몇 마리 주문하시겠습니까?\"))\n",
    "        if order > chicken: #남은 치킨보다 주문량이 많을때\n",
    "            print(\"재료가 부족합니다.\")\n",
    "        elif order <= 0:\n",
    "            raise ValueError\n",
    "        else:\n",
    "            print(\"[대기번호 {0}] {1} 마리 주문이 완료되었습니다.\"\\\n",
    "                 .format(waiting, order))\n",
    "            waiting += 1\n",
    "            chicken -= order\n",
    "        if chicken == 0:\n",
    "            raise SoldOutError\n",
    "    except ValueError:\n",
    "        print(\"잘못된 값을 입력하였습니다.\")\n",
    "    except SoldOutError:\n",
    "        print(\"재고가 소지되어 더 이상 주문을 받지 않습니다.\")\n",
    "        break"
   ]
  },
  {
   "cell_type": "code",
   "execution_count": null,
   "metadata": {},
   "outputs": [],
   "source": []
  },
  {
   "cell_type": "code",
   "execution_count": null,
   "metadata": {},
   "outputs": [],
   "source": []
  },
  {
   "cell_type": "code",
   "execution_count": null,
   "metadata": {},
   "outputs": [],
   "source": []
  },
  {
   "cell_type": "code",
   "execution_count": null,
   "metadata": {},
   "outputs": [],
   "source": []
  }
 ],
 "metadata": {
  "kernelspec": {
   "display_name": "Python 3",
   "language": "python",
   "name": "python3"
  },
  "language_info": {
   "codemirror_mode": {
    "name": "ipython",
    "version": 3
   },
   "file_extension": ".py",
   "mimetype": "text/x-python",
   "name": "python",
   "nbconvert_exporter": "python",
   "pygments_lexer": "ipython3",
   "version": "3.8.3"
  }
 },
 "nbformat": 4,
 "nbformat_minor": 4
}
