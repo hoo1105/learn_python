{
 "cells": [
  {
   "cell_type": "code",
   "execution_count": 1,
   "metadata": {},
   "outputs": [],
   "source": [
    "# #(Quiz) 변수를 이용하여 다음 문장을 출력하새요\n",
    "\n",
    "# 변수명\n",
    "#     : station\n",
    "\n",
    "# 변수값\n",
    "#     : \"사당\", \"신도림\", \"인천공항\" 순서대로 입력\n",
    "        \n",
    "# 출력 문장\n",
    "#     : XX 행 열차가 들러고 있습니다."
   ]
  },
  {
   "cell_type": "code",
   "execution_count": null,
   "metadata": {},
   "outputs": [],
   "source": []
  },
  {
   "cell_type": "code",
   "execution_count": 1,
   "metadata": {},
   "outputs": [
    {
     "name": "stdout",
     "output_type": "stream",
     "text": [
      "사당행 열차가 들어오고 있습니다.\n"
     ]
    }
   ],
   "source": [
    "station = \"사당\"    \n",
    "print(station +\"행 열차가 들어오고 있습니다.\")"
   ]
  },
  {
   "cell_type": "code",
   "execution_count": 3,
   "metadata": {},
   "outputs": [],
   "source": [
    "# Quiz) 당신은 최근에 코딩 스터디 모임을 새로 만들었습니다.\n",
    "# 월 4회 스터디를 하는데 3번은 온라인으로 하고 1번은 오프라인으로 하기로 했습니다.\n",
    "# 아래 조건에 맞는 오프라인 모임 날짜를 정해주는 프로그램을 작성하시오.\n",
    "\n",
    "# 조건1 : 랸돔으로 날짜를 뽑아야 함\n",
    "# 조건2 : 월별 날짜는 다른을 감안하여 최소 일수인 28 이내로 정함\n",
    "# 조건3 : 매월 1-3일은 스터디 준비를 해야 아므로 제외\n",
    "    \n",
    "# (출력분 예제)\n",
    "# 오프라인 스터디 모임 말짜는 매월 x 일로 선정 되었습니다.    "
   ]
  },
  {
   "cell_type": "code",
   "execution_count": null,
   "metadata": {},
   "outputs": [],
   "source": [
    "\n"
   ]
  },
  {
   "cell_type": "code",
   "execution_count": 3,
   "metadata": {},
   "outputs": [],
   "source": [
    "from random import *"
   ]
  },
  {
   "cell_type": "code",
   "execution_count": 5,
   "metadata": {},
   "outputs": [],
   "source": [
    "date = randint(4,28)"
   ]
  },
  {
   "cell_type": "code",
   "execution_count": 12,
   "metadata": {},
   "outputs": [
    {
     "name": "stdout",
     "output_type": "stream",
     "text": [
      "오프라인 스터디 모임 날짜는 매월 26 일로 선정되었습니다.\n"
     ]
    }
   ],
   "source": [
    "print(\"오프라인 스터디 모임 날짜는 매월 \"+ str(date) + \" 일로 선정되었습니다.\")"
   ]
  },
  {
   "cell_type": "code",
   "execution_count": 10,
   "metadata": {},
   "outputs": [
    {
     "name": "stdout",
     "output_type": "stream",
     "text": [
      "5.355718886927448\n"
     ]
    }
   ],
   "source": [
    "print(random()*10)"
   ]
  },
  {
   "cell_type": "code",
   "execution_count": 4,
   "metadata": {},
   "outputs": [
    {
     "ename": "TypeError",
     "evalue": "random() takes no arguments (1 given)",
     "output_type": "error",
     "traceback": [
      "\u001b[1;31m---------------------------------------------------------------------------\u001b[0m",
      "\u001b[1;31mTypeError\u001b[0m                                 Traceback (most recent call last)",
      "\u001b[1;32m<ipython-input-4-94af52a060ae>\u001b[0m in \u001b[0;36m<module>\u001b[1;34m\u001b[0m\n\u001b[1;32m----> 1\u001b[1;33m \u001b[0mprint\u001b[0m\u001b[1;33m(\u001b[0m\u001b[0mrandom\u001b[0m\u001b[1;33m(\u001b[0m\u001b[0mrange\u001b[0m\u001b[1;33m(\u001b[0m\u001b[1;36m1\u001b[0m\u001b[1;33m,\u001b[0m\u001b[1;36m11\u001b[0m\u001b[1;33m)\u001b[0m\u001b[1;33m)\u001b[0m\u001b[1;33m*\u001b[0m\u001b[1;36m10\u001b[0m\u001b[1;33m)\u001b[0m\u001b[1;33m\u001b[0m\u001b[1;33m\u001b[0m\u001b[0m\n\u001b[0m",
      "\u001b[1;31mTypeError\u001b[0m: random() takes no arguments (1 given)"
     ]
    }
   ],
   "source": [
    "print(random(range(1,11))*10)"
   ]
  },
  {
   "cell_type": "markdown",
   "metadata": {},
   "source": [
    "random()?"
   ]
  },
  {
   "cell_type": "raw",
   "metadata": {},
   "source": [
    "random()?"
   ]
  },
  {
   "cell_type": "code",
   "execution_count": 5,
   "metadata": {},
   "outputs": [
    {
     "ename": "SyntaxError",
     "evalue": "invalid syntax (<ipython-input-5-5f0dc9f0cfda>, line 1)",
     "output_type": "error",
     "traceback": [
      "\u001b[1;36m  File \u001b[1;32m\"<ipython-input-5-5f0dc9f0cfda>\"\u001b[1;36m, line \u001b[1;32m1\u001b[0m\n\u001b[1;33m    random ?\u001b[0m\n\u001b[1;37m           ^\u001b[0m\n\u001b[1;31mSyntaxError\u001b[0m\u001b[1;31m:\u001b[0m invalid syntax\n"
     ]
    }
   ],
   "source": [
    "    random ?\n"
   ]
  },
  {
   "cell_type": "code",
   "execution_count": null,
   "metadata": {},
   "outputs": [],
   "source": []
  }
 ],
 "metadata": {
  "kernelspec": {
   "display_name": "Python 3",
   "language": "python",
   "name": "python3"
  },
  "language_info": {
   "codemirror_mode": {
    "name": "ipython",
    "version": 3
   },
   "file_extension": ".py",
   "mimetype": "text/x-python",
   "name": "python",
   "nbconvert_exporter": "python",
   "pygments_lexer": "ipython3",
   "version": "3.8.3"
  }
 },
 "nbformat": 4,
 "nbformat_minor": 4
}
