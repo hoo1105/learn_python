{
 "cells": [
  {
   "cell_type": "code",
   "execution_count": 1,
   "metadata": {},
   "outputs": [],
   "source": [
    "#스타크래프트\n",
    "\n",
    "# 마린 : 공격 유닛, 군인, 총을 쏠 수 있음"
   ]
  },
  {
   "cell_type": "code",
   "execution_count": 2,
   "metadata": {},
   "outputs": [],
   "source": [
    "name = \"마린\" # 유닛의 이름\n",
    "hp = 40 # 유닛의 체력\n",
    "damage = 5 # 유닛의 공격력\n"
   ]
  },
  {
   "cell_type": "code",
   "execution_count": 3,
   "metadata": {},
   "outputs": [
    {
     "name": "stdout",
     "output_type": "stream",
     "text": [
      "마린 유닛이 생성되었습니다.\n",
      "체력 40, 공격력 5\n",
      "\n"
     ]
    }
   ],
   "source": [
    "print(\"{0} 유닛이 생성되었습니다.\".format(name))\n",
    "print(\"체력 {0}, 공격력 {1}\\n\".format(hp, damage))\n"
   ]
  },
  {
   "cell_type": "code",
   "execution_count": 9,
   "metadata": {},
   "outputs": [],
   "source": [
    "# 탱크 : 공격 유닛, 탱크. 포를 쏠 수 있는데, 일반 모드 / 시즈모드.\n",
    "\n",
    "tank_name = \"탱크\" # 유닛의 이름\n",
    "tank_hp = 150 # 유닛의 체력\n",
    "tank_damage = 35 # 유닛의 공격력"
   ]
  },
  {
   "cell_type": "code",
   "execution_count": 10,
   "metadata": {},
   "outputs": [
    {
     "name": "stdout",
     "output_type": "stream",
     "text": [
      "탱크 유닛이 생성되었습니다.\n",
      "체력 40, 공격력 35\n",
      "\n"
     ]
    }
   ],
   "source": [
    "print(\"{0} 유닛이 생성되었습니다.\".format(tank_name))\n",
    "print(\"체력 {0}, 공격력 {1}\\n\".format(hp, tank_damage))"
   ]
  },
  {
   "cell_type": "code",
   "execution_count": 12,
   "metadata": {},
   "outputs": [
    {
     "name": "stdout",
     "output_type": "stream",
     "text": [
      "마린 : 1시 방향으로 적군을 공격 합니다. [공격력 5]\n",
      "탱크 : 1시 방향으로 적군을 공격 합니다. [공격력 5]\n"
     ]
    }
   ],
   "source": [
    "# def attack(name, location, damage):\n",
    "#     print(\"{0} : {1} 방향으로 적군을 공격 합니다. [공격력 {2}]\".format(\\\n",
    "#            name, location, damage))\n",
    "# attack(name, \"1시\", damage)\n",
    "# attack(tank_name, \"1시\", damage)\n"
   ]
  },
  {
   "cell_type": "code",
   "execution_count": 13,
   "metadata": {},
   "outputs": [],
   "source": [
    "# 클라스 호출\n",
    "\n",
    "# class Unit():\n",
    "#     def __init__(self, name, hp, damage):\n",
    "#         self.name = name\n",
    "#         self.hp = hp\n",
    "#         self.damage = damage\n",
    "#         print(\"{0} 유닛이 생성 되었습니다.\".format(self.name))\n",
    "#         print(\"체력 {0}, 공격력 {1}\".format(self.hp, self.damage))\n",
    "        "
   ]
  },
  {
   "cell_type": "code",
   "execution_count": 14,
   "metadata": {},
   "outputs": [
    {
     "name": "stdout",
     "output_type": "stream",
     "text": [
      "마린 유닛이 생성 되었습니다.\n",
      "체력 40, 공격력 5\n",
      "마린 유닛이 생성 되었습니다.\n",
      "체력 40, 공격력 5\n",
      "탱크 유닛이 생성 되었습니다.\n",
      "체력 150, 공격력 35\n"
     ]
    }
   ],
   "source": [
    "# marine1 = Unit(\"마린\", 40, 5)\n",
    "# marine2 = Unit(\"마린\", 40, 5)\n",
    "# tank = Unit(\"탱크\", 150, 35)"
   ]
  },
  {
   "cell_type": "code",
   "execution_count": 17,
   "metadata": {},
   "outputs": [
    {
     "name": "stdout",
     "output_type": "stream",
     "text": [
      "레이스 유닛이 생성 되었습니다.\n",
      "체력 80, 공격력 5\n",
      "유닛 이름 : 레이스, 공격력 : 5\n"
     ]
    }
   ],
   "source": [
    "# 레이스 : 공중 유닛, 비행기. 클로킹\n",
    "# wraith1 = Unit(\"레이스\", 80, 5)\n",
    "# print(\"유닛 이름 : {0}, 공격력 : {1}\".format(wraith1.name, wraith1.damage))"
   ]
  },
  {
   "cell_type": "code",
   "execution_count": 18,
   "metadata": {},
   "outputs": [
    {
     "name": "stdout",
     "output_type": "stream",
     "text": [
      "빼앗은 레이스 유닛이 생성 되었습니다.\n",
      "체력 80, 공격력 5\n",
      "빼앗은 레이스 는 현재 클로킹 상태입니다.\n"
     ]
    }
   ],
   "source": [
    "# 마인드 컨트롤 : 상대방 유닛을 내 것으로 만드는것 (빼았음)\n",
    "# wraith2 = Unit(\"빼앗은 레이스\", 80, 5)\n",
    "# wraith2.clocking = True\n",
    "\n",
    "# if wraith2.clocking == True:\n",
    "#     print(\"{0} 는 현재 클로킹 상태입니다.\".format(wraith2.name))\n"
   ]
  },
  {
   "cell_type": "code",
   "execution_count": 26,
   "metadata": {},
   "outputs": [],
   "source": [
    "class AttackUnit:\n",
    "     def __init__(self, name, hp, damage):\n",
    "        self.name = name\n",
    "        self.hp = hp\n",
    "        self.damage = damage\n",
    "        \n",
    "     def attack(self, location):\n",
    "        print(\"{0} : {1} 방향으로 적군을 공격 합니다. [공격력 {2}]\"\\\n",
    "             .format(self.name, location, self.damage))\n",
    "     def damaged(self, damage):\n",
    "        print(\"{0} : {1} 데미지를 입었습니다.\".format(self.name, damage))\n",
    "        self.hp -= damage\n",
    "        print( \"{0} 현재 체력은 {1} 입니다.\".format(self.name, self.hp))\n",
    "        if self.hp <= 0:\n",
    "            print(\"{0} : 파괴되었습니다.\".format(self.name))"
   ]
  },
  {
   "cell_type": "code",
   "execution_count": 27,
   "metadata": {},
   "outputs": [
    {
     "name": "stdout",
     "output_type": "stream",
     "text": [
      "파이어뱃 : 5시 방향으로 적군을 공격 합니다. [공격력 16]\n",
      "파이어뱃 : 25 데미지를 입었습니다.\n",
      "파이어뱃 현재 체력은 25 입니다.\n",
      "파이어뱃 : 25 데미지를 입었습니다.\n",
      "파이어뱃 현재 체력은 0 입니다.\n",
      "파이어뱃 : 파괴되었습니다.\n"
     ]
    }
   ],
   "source": [
    "# 파이어뱃 : 공격 유닛, 화엽방사기.\n",
    "firebat1 = AttackUnit(\"파이어뱃\", 50, 16)\n",
    "firebat1.attack(\"5시\")\n",
    "\n",
    "# 공격 2번 받는다고 가정\n",
    "firebat1.damaged(25)\n",
    "firebat1.damaged(25)"
   ]
  },
  {
   "cell_type": "code",
   "execution_count": 2,
   "metadata": {},
   "outputs": [],
   "source": [
    "# 다중 상속\n",
    "\n",
    "# 드랍쉽 :  공중유닛, 수송기, 마린 / 파이어벳 / 탱크 등을 수송, 공격 x\n",
    "# 날 수 있는 기능을 가진 클래스"
   ]
  },
  {
   "cell_type": "code",
   "execution_count": null,
   "metadata": {},
   "outputs": [],
   "source": [
    "class Flyable:\n",
    "    def __init__\n",
    "    \n"
   ]
  },
  {
   "cell_type": "code",
   "execution_count": null,
   "metadata": {},
   "outputs": [],
   "source": []
  },
  {
   "cell_type": "code",
   "execution_count": null,
   "metadata": {},
   "outputs": [],
   "source": []
  },
  {
   "cell_type": "code",
   "execution_count": null,
   "metadata": {},
   "outputs": [],
   "source": []
  },
  {
   "cell_type": "code",
   "execution_count": null,
   "metadata": {},
   "outputs": [],
   "source": []
  },
  {
   "cell_type": "code",
   "execution_count": null,
   "metadata": {},
   "outputs": [],
   "source": []
  },
  {
   "cell_type": "code",
   "execution_count": null,
   "metadata": {},
   "outputs": [],
   "source": []
  },
  {
   "cell_type": "code",
   "execution_count": null,
   "metadata": {},
   "outputs": [],
   "source": []
  }
 ],
 "metadata": {
  "kernelspec": {
   "display_name": "Python 3",
   "language": "python",
   "name": "python3"
  },
  "language_info": {
   "codemirror_mode": {
    "name": "ipython",
    "version": 3
   },
   "file_extension": ".py",
   "mimetype": "text/x-python",
   "name": "python",
   "nbconvert_exporter": "python",
   "pygments_lexer": "ipython3",
   "version": "3.8.3"
  }
 },
 "nbformat": 4,
 "nbformat_minor": 4
}
