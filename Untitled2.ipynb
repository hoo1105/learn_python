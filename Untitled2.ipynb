{
 "cells": [
  {
   "cell_type": "code",
   "execution_count": 45,
   "metadata": {},
   "outputs": [],
   "source": [
    "import pandas as pd\n",
    "import numpy as np"
   ]
  },
  {
   "cell_type": "code",
   "execution_count": 53,
   "metadata": {},
   "outputs": [],
   "source": [
    "url = \"https://finance.naver.com/item/sise_day.nhn?code=068270&page=\""
   ]
  },
  {
   "cell_type": "code",
   "execution_count": 59,
   "metadata": {},
   "outputs": [
    {
     "name": "stdout",
     "output_type": "stream",
     "text": [
      "https://finance.naver.com/item/sise_day.nhn?code=068270&page=1\n",
      "https://finance.naver.com/item/sise_day.nhn?code=068270&page=2\n",
      "https://finance.naver.com/item/sise_day.nhn?code=068270&page=3\n",
      "https://finance.naver.com/item/sise_day.nhn?code=068270&page=4\n",
      "https://finance.naver.com/item/sise_day.nhn?code=068270&page=5\n",
      "https://finance.naver.com/item/sise_day.nhn?code=068270&page=6\n",
      "https://finance.naver.com/item/sise_day.nhn?code=068270&page=7\n",
      "https://finance.naver.com/item/sise_day.nhn?code=068270&page=8\n",
      "https://finance.naver.com/item/sise_day.nhn?code=068270&page=9\n",
      "https://finance.naver.com/item/sise_day.nhn?code=068270&page=10\n"
     ]
    }
   ],
   "source": [
    "df = pd.DataFrame()\n",
    "for page in range(1, 11):\n",
    "    res = requests.get(url + str(page))\n",
    "    print(url + str(page))\n",
    "    df = df.append(pd.read_html(url, header=0, encoding='CP949')[0], ignore_index=True)\n",
    "    "
   ]
  },
  {
   "cell_type": "code",
   "execution_count": 63,
   "metadata": {},
   "outputs": [
    {
     "data": {
      "text/plain": [
       "pandas.core.frame.DataFrame"
      ]
     },
     "execution_count": 63,
     "metadata": {},
     "output_type": "execute_result"
    }
   ],
   "source": [
    "len(df)\n",
    "type(df)"
   ]
  },
  {
   "cell_type": "code",
   "execution_count": 64,
   "metadata": {},
   "outputs": [
    {
     "data": {
      "text/plain": [
       "(100, 7)"
      ]
     },
     "execution_count": 64,
     "metadata": {},
     "output_type": "execute_result"
    }
   ],
   "source": [
    "df = df.dropna()\n",
    "df.shape"
   ]
  },
  {
   "cell_type": "code",
   "execution_count": 62,
   "metadata": {},
   "outputs": [
    {
     "data": {
      "text/html": [
       "<div>\n",
       "<style scoped>\n",
       "    .dataframe tbody tr th:only-of-type {\n",
       "        vertical-align: middle;\n",
       "    }\n",
       "\n",
       "    .dataframe tbody tr th {\n",
       "        vertical-align: top;\n",
       "    }\n",
       "\n",
       "    .dataframe thead th {\n",
       "        text-align: right;\n",
       "    }\n",
       "</style>\n",
       "<table border=\"1\" class=\"dataframe\">\n",
       "  <thead>\n",
       "    <tr style=\"text-align: right;\">\n",
       "      <th></th>\n",
       "      <th>날짜</th>\n",
       "      <th>종가</th>\n",
       "      <th>전일비</th>\n",
       "      <th>시가</th>\n",
       "      <th>고가</th>\n",
       "      <th>저가</th>\n",
       "      <th>거래량</th>\n",
       "    </tr>\n",
       "  </thead>\n",
       "  <tbody>\n",
       "    <tr>\n",
       "      <th>1</th>\n",
       "      <td>2020.09.02</td>\n",
       "      <td>301000.0</td>\n",
       "      <td>3000.0</td>\n",
       "      <td>299500.0</td>\n",
       "      <td>304000.0</td>\n",
       "      <td>298500.0</td>\n",
       "      <td>275188.0</td>\n",
       "    </tr>\n",
       "    <tr>\n",
       "      <th>2</th>\n",
       "      <td>2020.09.01</td>\n",
       "      <td>298000.0</td>\n",
       "      <td>1000.0</td>\n",
       "      <td>297000.0</td>\n",
       "      <td>302000.0</td>\n",
       "      <td>295000.0</td>\n",
       "      <td>668602.0</td>\n",
       "    </tr>\n",
       "    <tr>\n",
       "      <th>3</th>\n",
       "      <td>2020.08.31</td>\n",
       "      <td>297000.0</td>\n",
       "      <td>7500.0</td>\n",
       "      <td>305000.0</td>\n",
       "      <td>305500.0</td>\n",
       "      <td>296500.0</td>\n",
       "      <td>1079872.0</td>\n",
       "    </tr>\n",
       "    <tr>\n",
       "      <th>4</th>\n",
       "      <td>2020.08.28</td>\n",
       "      <td>304500.0</td>\n",
       "      <td>0.0</td>\n",
       "      <td>306000.0</td>\n",
       "      <td>308000.0</td>\n",
       "      <td>303500.0</td>\n",
       "      <td>557944.0</td>\n",
       "    </tr>\n",
       "    <tr>\n",
       "      <th>5</th>\n",
       "      <td>2020.08.27</td>\n",
       "      <td>304500.0</td>\n",
       "      <td>6000.0</td>\n",
       "      <td>310500.0</td>\n",
       "      <td>311000.0</td>\n",
       "      <td>304000.0</td>\n",
       "      <td>722862.0</td>\n",
       "    </tr>\n",
       "    <tr>\n",
       "      <th>...</th>\n",
       "      <td>...</td>\n",
       "      <td>...</td>\n",
       "      <td>...</td>\n",
       "      <td>...</td>\n",
       "      <td>...</td>\n",
       "      <td>...</td>\n",
       "      <td>...</td>\n",
       "    </tr>\n",
       "    <tr>\n",
       "      <th>144</th>\n",
       "      <td>2020.08.26</td>\n",
       "      <td>310500.0</td>\n",
       "      <td>4000.0</td>\n",
       "      <td>312000.0</td>\n",
       "      <td>319500.0</td>\n",
       "      <td>309000.0</td>\n",
       "      <td>1262116.0</td>\n",
       "    </tr>\n",
       "    <tr>\n",
       "      <th>145</th>\n",
       "      <td>2020.08.25</td>\n",
       "      <td>306500.0</td>\n",
       "      <td>3500.0</td>\n",
       "      <td>310500.0</td>\n",
       "      <td>311000.0</td>\n",
       "      <td>304500.0</td>\n",
       "      <td>600050.0</td>\n",
       "    </tr>\n",
       "    <tr>\n",
       "      <th>146</th>\n",
       "      <td>2020.08.24</td>\n",
       "      <td>310000.0</td>\n",
       "      <td>9000.0</td>\n",
       "      <td>304500.0</td>\n",
       "      <td>311000.0</td>\n",
       "      <td>301500.0</td>\n",
       "      <td>814190.0</td>\n",
       "    </tr>\n",
       "    <tr>\n",
       "      <th>147</th>\n",
       "      <td>2020.08.21</td>\n",
       "      <td>301000.0</td>\n",
       "      <td>4000.0</td>\n",
       "      <td>308000.0</td>\n",
       "      <td>308500.0</td>\n",
       "      <td>296000.0</td>\n",
       "      <td>1037558.0</td>\n",
       "    </tr>\n",
       "    <tr>\n",
       "      <th>148</th>\n",
       "      <td>2020.08.20</td>\n",
       "      <td>305000.0</td>\n",
       "      <td>1000.0</td>\n",
       "      <td>303000.0</td>\n",
       "      <td>317000.0</td>\n",
       "      <td>301000.0</td>\n",
       "      <td>1708375.0</td>\n",
       "    </tr>\n",
       "  </tbody>\n",
       "</table>\n",
       "<p>100 rows × 7 columns</p>\n",
       "</div>"
      ],
      "text/plain": [
       "             날짜        종가     전일비        시가        고가        저가        거래량\n",
       "1    2020.09.02  301000.0  3000.0  299500.0  304000.0  298500.0   275188.0\n",
       "2    2020.09.01  298000.0  1000.0  297000.0  302000.0  295000.0   668602.0\n",
       "3    2020.08.31  297000.0  7500.0  305000.0  305500.0  296500.0  1079872.0\n",
       "4    2020.08.28  304500.0     0.0  306000.0  308000.0  303500.0   557944.0\n",
       "5    2020.08.27  304500.0  6000.0  310500.0  311000.0  304000.0   722862.0\n",
       "..          ...       ...     ...       ...       ...       ...        ...\n",
       "144  2020.08.26  310500.0  4000.0  312000.0  319500.0  309000.0  1262116.0\n",
       "145  2020.08.25  306500.0  3500.0  310500.0  311000.0  304500.0   600050.0\n",
       "146  2020.08.24  310000.0  9000.0  304500.0  311000.0  301500.0   814190.0\n",
       "147  2020.08.21  301000.0  4000.0  308000.0  308500.0  296000.0  1037558.0\n",
       "148  2020.08.20  305000.0  1000.0  303000.0  317000.0  301000.0  1708375.0\n",
       "\n",
       "[100 rows x 7 columns]"
      ]
     },
     "execution_count": 62,
     "metadata": {},
     "output_type": "execute_result"
    }
   ],
   "source": [
    "df"
   ]
  },
  {
   "cell_type": "code",
   "execution_count": null,
   "metadata": {},
   "outputs": [],
   "source": []
  }
 ],
 "metadata": {
  "kernelspec": {
   "display_name": "Python 3",
   "language": "python",
   "name": "python3"
  },
  "language_info": {
   "codemirror_mode": {
    "name": "ipython",
    "version": 3
   },
   "file_extension": ".py",
   "mimetype": "text/x-python",
   "name": "python",
   "nbconvert_exporter": "python",
   "pygments_lexer": "ipython3",
   "version": "3.8.3"
  }
 },
 "nbformat": 4,
 "nbformat_minor": 4
}
