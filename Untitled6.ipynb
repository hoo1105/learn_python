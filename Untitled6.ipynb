{
 "cells": [
  {
   "cell_type": "code",
   "execution_count": 1,
   "metadata": {},
   "outputs": [
    {
     "name": "stdout",
     "output_type": "stream",
     "text": [
      "이름 : 유재석\t나이 : 20\t주 사용 언어 : 파이썬\n",
      "이름 : 김태호\t나이 : 25\t주 사용 언어 : 자바\n"
     ]
    }
   ],
   "source": [
    "# def profile(name, age, main_lang):\n",
    "#     print(\"이름 : {0}\\t나이 : {1}\\t주 사용 언어 : {2}\" \\\n",
    "#          .format(name, age, main_lang))\n",
    "    \n",
    "# profile(\"유재석\", 20, \"파이썬\")\n",
    "# profile(\"김태호\", 25, \"자바\")\n"
   ]
  },
  {
   "cell_type": "code",
   "execution_count": 2,
   "metadata": {},
   "outputs": [],
   "source": [
    "# 같은 학교 같은 학년 같은 반 같은 수업"
   ]
  },
  {
   "cell_type": "code",
   "execution_count": 6,
   "metadata": {},
   "outputs": [
    {
     "name": "stdout",
     "output_type": "stream",
     "text": [
      "이름 : 유재석\t나이 : 17\t주 사용 언어 : 파이썬\n",
      "이름 : 김태호\t나이 : 17\t주 사용 언어 : 파이썬\n"
     ]
    }
   ],
   "source": [
    "def profile(name, age=17, main_lang=\"파이썬\"):\n",
    "    print(\"이름 : {0}\\t나이 : {1}\\t주 사용 언어 : {2}\" \\\n",
    "         .format(name, age, main_lang))\n",
    "    \n",
    "profile(\"유재석\")\n",
    "profile(\"김태호\")\n",
    "    "
   ]
  },
  {
   "cell_type": "code",
   "execution_count": 7,
   "metadata": {},
   "outputs": [],
   "source": [
    "# 가변 매개변수 이용 함수"
   ]
  },
  {
   "cell_type": "code",
   "execution_count": 8,
   "metadata": {},
   "outputs": [
    {
     "name": "stdout",
     "output_type": "stream",
     "text": [
      "이름 : 유재석\t나이 : 20\t Python Java C C++ C#\n",
      "이름 : 김태호\t나이 : 25\t Kotlin Swift   \n"
     ]
    }
   ],
   "source": [
    "# def profile(name, age,lang1, lang2, lang3, lang4, lang5):\n",
    "#     print(\"이름 : {0}\\t나이 : {1}\\t\".format(name, age), end=\" \")\n",
    "#     print(lang1, lang2, lang3, lang4, lang5)\n",
    "    \n",
    "profile(\"유재석\", 20, \"Python\", \"Java\", \"C\", \"C++\", \"C#\")\n",
    "profile(\"김태호\", 25, \"Kotlin\", \"Swift\", \"\", \"\", \"\")\n"
   ]
  },
  {
   "cell_type": "code",
   "execution_count": 9,
   "metadata": {},
   "outputs": [
    {
     "name": "stdout",
     "output_type": "stream",
     "text": [
      "이름 : 유재석\t나이 : 20\t Python Java C C++ C# JavaScript \n",
      "이름 : 김태호\t나이 : 25\t Kotlin Swift \n"
     ]
    }
   ],
   "source": [
    "def profile(name, age, *language):\n",
    "    print(\"이름 : {0}\\t나이 : {1}\\t\".format(name, age), end=\" \")\n",
    "    for lang in language:\n",
    "        print(lang, end=\" \")\n",
    "    print()\n",
    "    \n",
    "profile(\"유재석\", 20, \"Python\", \"Java\", \"C\", \"C++\", \"C#\", \"JavaScript\")\n",
    "profile(\"김태호\", 25, \"Kotlin\", \"Swift\",)\n",
    "    "
   ]
  },
  {
   "cell_type": "code",
   "execution_count": 10,
   "metadata": {},
   "outputs": [],
   "source": [
    "# 지역변수 와 전역변수"
   ]
  },
  {
   "cell_type": "code",
   "execution_count": 11,
   "metadata": {},
   "outputs": [],
   "source": [
    "gun = 10\n",
    "\n",
    "def checkppint(soldiers): #경계근무\n",
    "    gun = gun - soldiers\n",
    "    print(\"[함수 내] 남은 총 : {0}\".format(gun))\n"
   ]
  },
  {
   "cell_type": "code",
   "execution_count": 14,
   "metadata": {},
   "outputs": [
    {
     "name": "stdout",
     "output_type": "stream",
     "text": [
      "전체 총 : 8\n",
      "[함수 내] 남은 총 : 6\n",
      "남은 총: 6\n"
     ]
    }
   ],
   "source": [
    "def checkpoint_ret(gun, soldiers):\n",
    "    gun = gun - soldiers\n",
    "    print(\"[함수 내] 남은 총 : {0}\".format(gun))\n",
    "    return gun\n",
    "\n",
    "print(\"전체 총 : {0}\".format(gun))\n",
    "\n",
    "#checkpoint(2) # 2명이 경계 근무 나감\n",
    "\n",
    "gun = checkpoint_ret(gun, 2)\n",
    "print(\"남은 총: {0}\".format(gun))"
   ]
  },
  {
   "cell_type": "code",
   "execution_count": null,
   "metadata": {},
   "outputs": [],
   "source": [
    "# for 문 또는 if 문에서 빠져 나오는 방법"
   ]
  },
  {
   "cell_type": "code",
   "execution_count": 15,
   "metadata": {},
   "outputs": [],
   "source": [
    "absent = [2, 5]# 결 석"
   ]
  },
  {
   "cell_type": "code",
   "execution_count": 16,
   "metadata": {},
   "outputs": [],
   "source": [
    "no_book = [7] # 책을 미지참"
   ]
  },
  {
   "cell_type": "code",
   "execution_count": 17,
   "metadata": {},
   "outputs": [
    {
     "name": "stdout",
     "output_type": "stream",
     "text": [
      "1 책을 읽어봐\n",
      "3 책을 읽어봐\n",
      "4 책을 읽어봐\n",
      "6 책을 읽어봐\n",
      "오늘 수업 여기까지. 7는 교무실로 따라와\n"
     ]
    }
   ],
   "source": [
    "for student in range(1, 11):\n",
    "    if student in absent:\n",
    "        continue\n",
    "    elif student in no_book:\n",
    "        print(\"오늘 수업 여기까지. {0}는 교무실로 따라와\".format(student))\n",
    "        break\n",
    "    print(\"{0} 책을 읽어봐\".format(student))\n",
    "    "
   ]
  },
  {
   "cell_type": "code",
   "execution_count": 20,
   "metadata": {},
   "outputs": [],
   "source": [
    "# 출석번호가 1 2 3 4, 앞에 100을 붙이기로 함 -> 101, 102, 103, 104..."
   ]
  },
  {
   "cell_type": "code",
   "execution_count": 23,
   "metadata": {},
   "outputs": [
    {
     "name": "stdout",
     "output_type": "stream",
     "text": [
      "[1, 2, 3, 4, 5]\n",
      "[101, 102, 103, 104, 105]\n"
     ]
    }
   ],
   "source": [
    "students = [1, 2, 3, 4, 5]\n",
    "print(students)\n",
    "students = [i+100 for i in students]\n",
    "print(students)"
   ]
  },
  {
   "cell_type": "code",
   "execution_count": null,
   "metadata": {},
   "outputs": [],
   "source": [
    "#학생 이름 길이로 변환"
   ]
  },
  {
   "cell_type": "code",
   "execution_count": 25,
   "metadata": {},
   "outputs": [
    {
     "name": "stdout",
     "output_type": "stream",
     "text": [
      "[8, 4, 10]\n"
     ]
    }
   ],
   "source": [
    "students = [\"Iron man\", \"Thor\", \"I am groot\"]\n",
    "students = [len(i) for i in students]\n",
    "print(students)"
   ]
  },
  {
   "cell_type": "code",
   "execution_count": 26,
   "metadata": {},
   "outputs": [],
   "source": [
    "#g학생 이름을 대문자로 변환"
   ]
  },
  {
   "cell_type": "code",
   "execution_count": 1,
   "metadata": {},
   "outputs": [
    {
     "name": "stdout",
     "output_type": "stream",
     "text": [
      "['IRON MAN', 'THOR', 'I AM GROOT']\n"
     ]
    }
   ],
   "source": [
    "students = [\"Iron man\", \"Thor\", \"I am groot\"]\n",
    "students = [i.upper() for i in students]\n",
    "print(students)"
   ]
  },
  {
   "cell_type": "code",
   "execution_count": 2,
   "metadata": {},
   "outputs": [],
   "source": [
    "# 표준입출력문\n"
   ]
  },
  {
   "cell_type": "code",
   "execution_count": 3,
   "metadata": {},
   "outputs": [
    {
     "name": "stdout",
     "output_type": "stream",
     "text": [
      "Pyton,Java,JavaScript?무엇이 더 재밌을까요?\n"
     ]
    }
   ],
   "source": [
    "print(\"Pyton\", \"Java\",\"JavaScript\", sep=\",\", end=\"?\")\n",
    "print(\"무엇이 더 재밌을까요?\")"
   ]
  },
  {
   "cell_type": "code",
   "execution_count": 5,
   "metadata": {},
   "outputs": [],
   "source": [
    "# import sys\n",
    "# print(\"Python\", \"Java\", file=sys.stdout)\n",
    "# print(\"Python\", \"Java\", file=sys.stderr)"
   ]
  },
  {
   "cell_type": "raw",
   "metadata": {},
   "source": [
    "scores = {\"수학\":0, \"영어\":50, \"코딩\":100}\n",
    "for subject, score in scores.items():\n",
    "    print(subject, score)\n",
    "    print(subject.ljust(8), score.rjust(4), sep=\":\")"
   ]
  },
  {
   "cell_type": "code",
   "execution_count": 11,
   "metadata": {},
   "outputs": [
    {
     "name": "stdout",
     "output_type": "stream",
     "text": [
      "대기번호 : 001\n",
      "대기번호 : 002\n",
      "대기번호 : 003\n",
      "대기번호 : 004\n",
      "대기번호 : 005\n",
      "대기번호 : 006\n",
      "대기번호 : 007\n",
      "대기번호 : 008\n",
      "대기번호 : 009\n",
      "대기번호 : 010\n",
      "대기번호 : 011\n",
      "대기번호 : 012\n",
      "대기번호 : 013\n",
      "대기번호 : 014\n",
      "대기번호 : 015\n",
      "대기번호 : 016\n",
      "대기번호 : 017\n",
      "대기번호 : 018\n",
      "대기번호 : 019\n",
      "대기번호 : 020\n"
     ]
    }
   ],
   "source": [
    "# 은행 대기 순번표\n",
    "# 001, 002, 003, ...\n",
    "for num in range(1, 21):\n",
    "    print(\"대기번호 : \" +str(num).zfill(3))"
   ]
  },
  {
   "cell_type": "code",
   "execution_count": 13,
   "metadata": {},
   "outputs": [
    {
     "name": "stdout",
     "output_type": "stream",
     "text": [
      "아무 값이나 입력하세요 : 나도코딩\n",
      "입력하신 값은 나도코딩 입니다.\n"
     ]
    }
   ],
   "source": [
    "answer = input(\"아무 값이나 입력하세요 : \")\n",
    "print(\"입력하신 값은 \" + answer + \" 입니다.\")"
   ]
  },
  {
   "cell_type": "code",
   "execution_count": null,
   "metadata": {},
   "outputs": [],
   "source": [
    "#빈자리는 빈공간으로 두고, 오른쪽 정렬을 하되, 총 10자리 공간을 확보"
   ]
  },
  {
   "cell_type": "code",
   "execution_count": 18,
   "metadata": {},
   "outputs": [
    {
     "name": "stdout",
     "output_type": "stream",
     "text": [
      "       500\n"
     ]
    }
   ],
   "source": [
    "print(\"{0: >10}\".format(500))"
   ]
  },
  {
   "cell_type": "code",
   "execution_count": null,
   "metadata": {},
   "outputs": [],
   "source": [
    "# 양수일 땐 +로 표시, 음수일땐 -로 표시"
   ]
  },
  {
   "cell_type": "code",
   "execution_count": 16,
   "metadata": {},
   "outputs": [
    {
     "name": "stdout",
     "output_type": "stream",
     "text": [
      "      -500\n"
     ]
    }
   ],
   "source": [
    "print(\"{0: >+10}\".format(-500))"
   ]
  },
  {
   "cell_type": "code",
   "execution_count": 19,
   "metadata": {},
   "outputs": [
    {
     "name": "stdout",
     "output_type": "stream",
     "text": [
      "_______500\n"
     ]
    }
   ],
   "source": [
    "# 왼쪽 정렬을 하고, 빈칸으로 _로 채움\n",
    "print(\"{0:_>10}\".format(500))"
   ]
  },
  {
   "cell_type": "code",
   "execution_count": 20,
   "metadata": {},
   "outputs": [
    {
     "name": "stdout",
     "output_type": "stream",
     "text": [
      "1,111,111,111,111,500\n"
     ]
    }
   ],
   "source": [
    "# 3자리 마다 콤마 찍어주기\n",
    "print(\"{0:,}\".format(1111111111111500))"
   ]
  },
  {
   "cell_type": "code",
   "execution_count": 21,
   "metadata": {},
   "outputs": [
    {
     "name": "stdout",
     "output_type": "stream",
     "text": [
      "+10,000,000,000,000\n"
     ]
    }
   ],
   "source": [
    "# 3자리 마다 콤마 찍어주기, +- 부호도 붙이기\n",
    "print(\"{0:+,}\".format(10000000000000))"
   ]
  },
  {
   "cell_type": "code",
   "execution_count": 22,
   "metadata": {},
   "outputs": [
    {
     "name": "stdout",
     "output_type": "stream",
     "text": [
      "+100,000,000,000^^^^^^^^^^^^^^\n"
     ]
    }
   ],
   "source": [
    "# 3자리 마다 콤마를 찍어주기, 부호도 붙이고, 자맀수 확보하기\n",
    "# 돈이 많으면 행복하니까 빈 자리는 ^ 로 채워주기\n",
    "print(\"{0:^<+30,}\".format(100000000000))"
   ]
  },
  {
   "cell_type": "code",
   "execution_count": 23,
   "metadata": {},
   "outputs": [
    {
     "name": "stdout",
     "output_type": "stream",
     "text": [
      "0.166667\n"
     ]
    }
   ],
   "source": [
    "# 소수점 출력\n",
    "print(\"{0:f}\".format(5/30))"
   ]
  },
  {
   "cell_type": "code",
   "execution_count": 24,
   "metadata": {},
   "outputs": [
    {
     "name": "stdout",
     "output_type": "stream",
     "text": [
      "1.67\n"
     ]
    }
   ],
   "source": [
    "# 소수정 특정 자리수 까지만 표시\n",
    "print(\"{0:.2f}\".format(5/3))"
   ]
  },
  {
   "cell_type": "code",
   "execution_count": 25,
   "metadata": {},
   "outputs": [],
   "source": [
    "# 화일 입출력\n",
    "score_file = open(\"score.txt\", \"w\", encoding=\"utf8\")\n",
    "print(\"수학 : 0\", file=score_file)\n",
    "print(\"영어 : 50\", file=score_file)\n",
    "score_file.close()\n"
   ]
  },
  {
   "cell_type": "code",
   "execution_count": 32,
   "metadata": {},
   "outputs": [],
   "source": [
    "score_file = open(\"score.txt\", \"a\", encoding=\"utf8\")\n",
    "score_file.write(\"\\n과학 : 80\")\n",
    "score_file.write(\"\\n코딩 : 100\")\n",
    "score_file.close()"
   ]
  },
  {
   "cell_type": "code",
   "execution_count": 34,
   "metadata": {},
   "outputs": [
    {
     "name": "stdout",
     "output_type": "stream",
     "text": [
      "수학 : 0\n",
      "영어 : 50\n",
      "과학 : 80코딩 : 100과학 : 80코딩 : 100과학 : 80\n",
      "코딩 : 100과학 : 80\n",
      "코딩 : 100\n",
      "과학 : 80\n",
      "코딩 : 100\n",
      "과학 : 80\n",
      "코딩 : 100\n",
      "과학 : 80\n",
      "코딩 : 100\n"
     ]
    }
   ],
   "source": [
    "score_file = open(\"score.txt\", \"r\", encoding=\"utf8\")\n",
    "print(score_file.read())\n",
    "score_file.close()"
   ]
  },
  {
   "cell_type": "code",
   "execution_count": 36,
   "metadata": {},
   "outputs": [
    {
     "name": "stdout",
     "output_type": "stream",
     "text": [
      "수학 : 0\n",
      "\n",
      "영어 : 50\n",
      "과학 : 80코딩 : 100과학 : 80코딩 : 100과학 : 80\n",
      "\n",
      "코딩 : 100과학 : 80\n",
      "\n",
      "코딩 : 100\n",
      "\n",
      "과학 : 80\n",
      "\n",
      "코딩 : 100\n",
      "\n"
     ]
    }
   ],
   "source": [
    "score_file = open(\"score.txt\", \"r\", encoding=\"utf8\")\n",
    "print(score_file.readline()) # 줄별로 읽기, 한 줄 읽고 커서는 다음 줄로 이동\n",
    "print(score_file.readline(), end=\"\")\n",
    "print(score_file.readline())\n",
    "print(score_file.readline())\n",
    "print(score_file.readline())\n",
    "print(score_file.readline())\n",
    "print(score_file.readline())\n",
    "score_file.close()"
   ]
  },
  {
   "cell_type": "code",
   "execution_count": 44,
   "metadata": {},
   "outputs": [
    {
     "name": "stdout",
     "output_type": "stream",
     "text": [
      "수학 : 0\n",
      "\n",
      "영어 : 50\n",
      "\n",
      "과학 : 80코딩 : 100과학 : 80코딩 : 100과학 : 80\n",
      "\n",
      "코딩 : 100과학 : 80\n",
      "\n",
      "코딩 : 100\n",
      "\n",
      "과학 : 80\n",
      "\n",
      "코딩 : 100\n",
      "\n",
      "과학 : 80\n",
      "\n",
      "코딩 : 100\n",
      "\n",
      "과학 : 80\n",
      "\n",
      "코딩 : 100\n"
     ]
    }
   ],
   "source": [
    "score_file = open(\"score.txt\", \"r\", encoding=\"utf8\")\n",
    "while True:\n",
    "    line = score_file.readline()\n",
    "    if not line:\n",
    "         break\n",
    "    print(line)  \n",
    "score_file.close()                              \n",
    "                  "
   ]
  },
  {
   "cell_type": "code",
   "execution_count": 40,
   "metadata": {},
   "outputs": [
    {
     "name": "stdout",
     "output_type": "stream",
     "text": [
      "수학 : 0\n",
      "영어 : 50\n",
      "과학 : 80코딩 : 100과학 : 80코딩 : 100과학 : 80\n",
      "코딩 : 100과학 : 80\n",
      "코딩 : 100\n",
      "과학 : 80\n",
      "코딩 : 100\n",
      "과학 : 80\n",
      "코딩 : 100\n",
      "과학 : 80\n",
      "코딩 : 100"
     ]
    }
   ],
   "source": [
    "score_file = open(\"score.txt\", \"r\", encoding=\"utf8\")\n",
    "lines = score_file.readlines()\n",
    "for line in lines:\n",
    "    print(line, end=\"\")  \n",
    "    \n",
    "score_file.close()              "
   ]
  },
  {
   "cell_type": "code",
   "execution_count": 48,
   "metadata": {},
   "outputs": [
    {
     "name": "stdout",
     "output_type": "stream",
     "text": [
      "{'이름': '박명수', '나이': 30, '취미': ['축구', '골프', '코딩']}\n"
     ]
    }
   ],
   "source": [
    "import pickle\n",
    "profile_file = open(\"profile.pickle\", \"wb\")\n",
    "profile = {\"이름\":\"박명수\", \"나이\":30, \"취미\":[\"축구\", \"골프\",\"코딩\"]}\n",
    "print(profile)\n",
    "pickle.dump(profile, profile_file)\n",
    "profile_file.close()"
   ]
  },
  {
   "cell_type": "code",
   "execution_count": 50,
   "metadata": {},
   "outputs": [
    {
     "name": "stdout",
     "output_type": "stream",
     "text": [
      "{'이름': '박명수', '나이': 30, '취미': ['축구', '골프', '코딩']}\n"
     ]
    }
   ],
   "source": [
    "profile_file = open(\"profile.pickle\", \"rb\")\n",
    "profile = pickle.load(profile_file)\n",
    "print(profile)\n",
    "profile_file.close()\n"
   ]
  },
  {
   "cell_type": "code",
   "execution_count": 52,
   "metadata": {},
   "outputs": [
    {
     "name": "stdout",
     "output_type": "stream",
     "text": [
      "{'이름': '박명수', '나이': 30, '취미': ['축구', '골프', '코딩']}\n"
     ]
    }
   ],
   "source": [
    "# import pickle\n",
    "\n",
    "# with open(\"profile.pickle\", \"rb\") as profile_file:\n",
    "#     print(pickle.load(profile_file))\n",
    "    "
   ]
  },
  {
   "cell_type": "code",
   "execution_count": 54,
   "metadata": {},
   "outputs": [
    {
     "name": "stdout",
     "output_type": "stream",
     "text": [
      "파이썬을 열심히 공부하고 있어요\n"
     ]
    }
   ],
   "source": [
    "with open(\"study.txt\", \"w\", encoding=\"utf8\") as study_file:\n",
    "    study_file.write(\"파이썬을 열심히 공부하고 있어요\")\n",
    "    \n",
    "with open(\"study.txt\", \"r\", encoding=\"utf8\") as study_file:\n",
    "    print(study_file.read())"
   ]
  },
  {
   "cell_type": "code",
   "execution_count": null,
   "metadata": {},
   "outputs": [],
   "source": []
  }
 ],
 "metadata": {
  "kernelspec": {
   "display_name": "Python 3",
   "language": "python",
   "name": "python3"
  },
  "language_info": {
   "codemirror_mode": {
    "name": "ipython",
    "version": 3
   },
   "file_extension": ".py",
   "mimetype": "text/x-python",
   "name": "python",
   "nbconvert_exporter": "python",
   "pygments_lexer": "ipython3",
   "version": "3.8.3"
  }
 },
 "nbformat": 4,
 "nbformat_minor": 4
}
